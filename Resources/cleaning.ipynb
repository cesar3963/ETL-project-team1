{
 "metadata": {
  "language_info": {
   "codemirror_mode": {
    "name": "ipython",
    "version": 3
   },
   "file_extension": ".py",
   "mimetype": "text/x-python",
   "name": "python",
   "nbconvert_exporter": "python",
   "pygments_lexer": "ipython3",
   "version": "3.8.3-final"
  },
  "orig_nbformat": 2,
  "kernelspec": {
   "name": "python3",
   "display_name": "Python 3"
  }
 },
 "nbformat": 4,
 "nbformat_minor": 2,
 "cells": [
  {
   "cell_type": "code",
   "execution_count": 11,
   "metadata": {},
   "outputs": [],
   "source": [
    "import pandas as pd\n",
    "from sqlalchemy import create_engine\n",
    "import codecs"
   ]
  },
  {
   "cell_type": "code",
   "execution_count": 18,
   "metadata": {},
   "outputs": [
    {
     "output_type": "execute_result",
     "data": {
      "text/plain": [
       "  set_num                        name  year  theme_id  num_parts\n",
       "0   001-1                       Gears  1965         1         43\n",
       "1  0011-2           Town Mini-Figures  1978        84         12\n",
       "2  0011-3  Castle 2 for 1 Bonus Offer  1987       199          0\n",
       "3  0012-1          Space Mini-Figures  1979       143         12\n",
       "4  0013-1          Space Mini-Figures  1979       143         12"
      ],
      "text/html": "<div>\n<style scoped>\n    .dataframe tbody tr th:only-of-type {\n        vertical-align: middle;\n    }\n\n    .dataframe tbody tr th {\n        vertical-align: top;\n    }\n\n    .dataframe thead th {\n        text-align: right;\n    }\n</style>\n<table border=\"1\" class=\"dataframe\">\n  <thead>\n    <tr style=\"text-align: right;\">\n      <th></th>\n      <th>set_num</th>\n      <th>name</th>\n      <th>year</th>\n      <th>theme_id</th>\n      <th>num_parts</th>\n    </tr>\n  </thead>\n  <tbody>\n    <tr>\n      <th>0</th>\n      <td>001-1</td>\n      <td>Gears</td>\n      <td>1965</td>\n      <td>1</td>\n      <td>43</td>\n    </tr>\n    <tr>\n      <th>1</th>\n      <td>0011-2</td>\n      <td>Town Mini-Figures</td>\n      <td>1978</td>\n      <td>84</td>\n      <td>12</td>\n    </tr>\n    <tr>\n      <th>2</th>\n      <td>0011-3</td>\n      <td>Castle 2 for 1 Bonus Offer</td>\n      <td>1987</td>\n      <td>199</td>\n      <td>0</td>\n    </tr>\n    <tr>\n      <th>3</th>\n      <td>0012-1</td>\n      <td>Space Mini-Figures</td>\n      <td>1979</td>\n      <td>143</td>\n      <td>12</td>\n    </tr>\n    <tr>\n      <th>4</th>\n      <td>0013-1</td>\n      <td>Space Mini-Figures</td>\n      <td>1979</td>\n      <td>143</td>\n      <td>12</td>\n    </tr>\n  </tbody>\n</table>\n</div>"
     },
     "metadata": {},
     "execution_count": 18
    }
   ],
   "source": [
    "sets__2020_csv = \"sets.csv\"\n",
    "sets_2020_db = pd.read_csv(sets__2020_csv)\n",
    "sets_2020_db.head()"
   ]
  },
  {
   "cell_type": "code",
   "execution_count": 20,
   "metadata": {},
   "outputs": [
    {
     "output_type": "execute_result",
     "data": {
      "text/plain": [
       "   theme_id                        name  year\n",
       "0         1                       Gears  1965\n",
       "1        84           Town Mini-Figures  1978\n",
       "2       199  Castle 2 for 1 Bonus Offer  1987\n",
       "3       143          Space Mini-Figures  1979\n",
       "4       143          Space Mini-Figures  1979"
      ],
      "text/html": "<div>\n<style scoped>\n    .dataframe tbody tr th:only-of-type {\n        vertical-align: middle;\n    }\n\n    .dataframe tbody tr th {\n        vertical-align: top;\n    }\n\n    .dataframe thead th {\n        text-align: right;\n    }\n</style>\n<table border=\"1\" class=\"dataframe\">\n  <thead>\n    <tr style=\"text-align: right;\">\n      <th></th>\n      <th>theme_id</th>\n      <th>name</th>\n      <th>year</th>\n    </tr>\n  </thead>\n  <tbody>\n    <tr>\n      <th>0</th>\n      <td>1</td>\n      <td>Gears</td>\n      <td>1965</td>\n    </tr>\n    <tr>\n      <th>1</th>\n      <td>84</td>\n      <td>Town Mini-Figures</td>\n      <td>1978</td>\n    </tr>\n    <tr>\n      <th>2</th>\n      <td>199</td>\n      <td>Castle 2 for 1 Bonus Offer</td>\n      <td>1987</td>\n    </tr>\n    <tr>\n      <th>3</th>\n      <td>143</td>\n      <td>Space Mini-Figures</td>\n      <td>1979</td>\n    </tr>\n    <tr>\n      <th>4</th>\n      <td>143</td>\n      <td>Space Mini-Figures</td>\n      <td>1979</td>\n    </tr>\n  </tbody>\n</table>\n</div>"
     },
     "metadata": {},
     "execution_count": 20
    }
   ],
   "source": [
    "sets_clean_20_db = sets_2020_db[['theme_id', 'name', 'year']].copy()\n",
    "sets_clean_20_db.head()"
   ]
  },
  {
   "cell_type": "code",
   "execution_count": 6,
   "metadata": {},
   "outputs": [
    {
     "output_type": "execute_result",
     "data": {
      "text/plain": [
       "   id            name  parent_id\n",
       "0   1         Technic        NaN\n",
       "1   2  Arctic Technic        1.0\n",
       "2   3     Competition        1.0\n",
       "3   4  Expert Builder        1.0\n",
       "4   5           Model        1.0"
      ],
      "text/html": "<div>\n<style scoped>\n    .dataframe tbody tr th:only-of-type {\n        vertical-align: middle;\n    }\n\n    .dataframe tbody tr th {\n        vertical-align: top;\n    }\n\n    .dataframe thead th {\n        text-align: right;\n    }\n</style>\n<table border=\"1\" class=\"dataframe\">\n  <thead>\n    <tr style=\"text-align: right;\">\n      <th></th>\n      <th>id</th>\n      <th>name</th>\n      <th>parent_id</th>\n    </tr>\n  </thead>\n  <tbody>\n    <tr>\n      <th>0</th>\n      <td>1</td>\n      <td>Technic</td>\n      <td>NaN</td>\n    </tr>\n    <tr>\n      <th>1</th>\n      <td>2</td>\n      <td>Arctic Technic</td>\n      <td>1.0</td>\n    </tr>\n    <tr>\n      <th>2</th>\n      <td>3</td>\n      <td>Competition</td>\n      <td>1.0</td>\n    </tr>\n    <tr>\n      <th>3</th>\n      <td>4</td>\n      <td>Expert Builder</td>\n      <td>1.0</td>\n    </tr>\n    <tr>\n      <th>4</th>\n      <td>5</td>\n      <td>Model</td>\n      <td>1.0</td>\n    </tr>\n  </tbody>\n</table>\n</div>"
     },
     "metadata": {},
     "execution_count": 6
    }
   ],
   "source": [
    "thems_2020_csv = \"themes.csv\"\n",
    "thems_2020_db =pd.read_csv(thems_2020_csv)\n",
    "thems_2020_db.head()"
   ]
  },
  {
   "cell_type": "code",
   "execution_count": 14,
   "metadata": {},
   "outputs": [
    {
     "output_type": "execute_result",
     "data": {
      "text/plain": [
       "   Inventory ID  Part Number  Color ID             Color Transparent Brick  \\\n",
       "0             1     48379c01        72  Dark Bluish Gray                 f   \n",
       "1             1        48395         7        Light Gray                 f   \n",
       "2             1     mcsport6        25            Orange                 f   \n",
       "3             1       paddle         0             Black                 f   \n",
       "4             3  11816pr0005        78       Light Flesh                 f   \n",
       "\n",
       "   Quantity Spare Parts Set Number  \\\n",
       "0         1           f     7922-1   \n",
       "1         1           f     7922-1   \n",
       "2         1           f     7922-1   \n",
       "3         1           f     7922-1   \n",
       "4         1           f     3931-1   \n",
       "\n",
       "                                           Part Name        Part Category  \\\n",
       "0                 Sports Promo Figure Base with Feet  Minifig Accessories   \n",
       "1  Sports Promo Snowboard from McDonald's Sports ...  Minifig Accessories   \n",
       "2  Sports Promo Figure Head Torso Assembly McDona...             Minifigs   \n",
       "3    Sports Promo Paddle from McDonald's Sports Sets  Minifig Accessories   \n",
       "4  Minifig Head Modified - Friends - Green Eyes, ...             Minifigs   \n",
       "\n",
       "                                            Set Name   Set Category  \\\n",
       "0  McDonald's Sports Set Number 6 - Orange Vest S...  Gravity Games   \n",
       "1  McDonald's Sports Set Number 6 - Orange Vest S...  Gravity Games   \n",
       "2  McDonald's Sports Set Number 6 - Orange Vest S...  Gravity Games   \n",
       "3  McDonald's Sports Set Number 6 - Orange Vest S...  Gravity Games   \n",
       "4                                 Emma's Splash Pool        Friends   \n",
       "\n",
       "  Set Subcategory  Set Year  \n",
       "0          Sports      2004  \n",
       "1          Sports      2004  \n",
       "2          Sports      2004  \n",
       "3          Sports      2004  \n",
       "4         Friends      2012  "
      ],
      "text/html": "<div>\n<style scoped>\n    .dataframe tbody tr th:only-of-type {\n        vertical-align: middle;\n    }\n\n    .dataframe tbody tr th {\n        vertical-align: top;\n    }\n\n    .dataframe thead th {\n        text-align: right;\n    }\n</style>\n<table border=\"1\" class=\"dataframe\">\n  <thead>\n    <tr style=\"text-align: right;\">\n      <th></th>\n      <th>Inventory ID</th>\n      <th>Part Number</th>\n      <th>Color ID</th>\n      <th>Color</th>\n      <th>Transparent Brick</th>\n      <th>Quantity</th>\n      <th>Spare Parts</th>\n      <th>Set Number</th>\n      <th>Part Name</th>\n      <th>Part Category</th>\n      <th>Set Name</th>\n      <th>Set Category</th>\n      <th>Set Subcategory</th>\n      <th>Set Year</th>\n    </tr>\n  </thead>\n  <tbody>\n    <tr>\n      <th>0</th>\n      <td>1</td>\n      <td>48379c01</td>\n      <td>72</td>\n      <td>Dark Bluish Gray</td>\n      <td>f</td>\n      <td>1</td>\n      <td>f</td>\n      <td>7922-1</td>\n      <td>Sports Promo Figure Base with Feet</td>\n      <td>Minifig Accessories</td>\n      <td>McDonald's Sports Set Number 6 - Orange Vest S...</td>\n      <td>Gravity Games</td>\n      <td>Sports</td>\n      <td>2004</td>\n    </tr>\n    <tr>\n      <th>1</th>\n      <td>1</td>\n      <td>48395</td>\n      <td>7</td>\n      <td>Light Gray</td>\n      <td>f</td>\n      <td>1</td>\n      <td>f</td>\n      <td>7922-1</td>\n      <td>Sports Promo Snowboard from McDonald's Sports ...</td>\n      <td>Minifig Accessories</td>\n      <td>McDonald's Sports Set Number 6 - Orange Vest S...</td>\n      <td>Gravity Games</td>\n      <td>Sports</td>\n      <td>2004</td>\n    </tr>\n    <tr>\n      <th>2</th>\n      <td>1</td>\n      <td>mcsport6</td>\n      <td>25</td>\n      <td>Orange</td>\n      <td>f</td>\n      <td>1</td>\n      <td>f</td>\n      <td>7922-1</td>\n      <td>Sports Promo Figure Head Torso Assembly McDona...</td>\n      <td>Minifigs</td>\n      <td>McDonald's Sports Set Number 6 - Orange Vest S...</td>\n      <td>Gravity Games</td>\n      <td>Sports</td>\n      <td>2004</td>\n    </tr>\n    <tr>\n      <th>3</th>\n      <td>1</td>\n      <td>paddle</td>\n      <td>0</td>\n      <td>Black</td>\n      <td>f</td>\n      <td>1</td>\n      <td>f</td>\n      <td>7922-1</td>\n      <td>Sports Promo Paddle from McDonald's Sports Sets</td>\n      <td>Minifig Accessories</td>\n      <td>McDonald's Sports Set Number 6 - Orange Vest S...</td>\n      <td>Gravity Games</td>\n      <td>Sports</td>\n      <td>2004</td>\n    </tr>\n    <tr>\n      <th>4</th>\n      <td>3</td>\n      <td>11816pr0005</td>\n      <td>78</td>\n      <td>Light Flesh</td>\n      <td>f</td>\n      <td>1</td>\n      <td>f</td>\n      <td>3931-1</td>\n      <td>Minifig Head Modified - Friends - Green Eyes, ...</td>\n      <td>Minifigs</td>\n      <td>Emma's Splash Pool</td>\n      <td>Friends</td>\n      <td>Friends</td>\n      <td>2012</td>\n    </tr>\n  </tbody>\n</table>\n</div>"
     },
     "metadata": {},
     "execution_count": 14
    }
   ],
   "source": [
    "sets_1950_csv = \"sets_1950_2017.csv\"\n",
    "sets_1950_db =pd.read_csv(sets_1950_csv,encoding='latin-1')\n",
    "sets_1950_db.head()"
   ]
  },
  {
   "cell_type": "code",
   "execution_count": 26,
   "metadata": {},
   "outputs": [
    {
     "output_type": "execute_result",
     "data": {
      "text/plain": [
       "   Inventory ID                                           Set Name  Set Year\n",
       "0             1  McDonald's Sports Set Number 6 - Orange Vest S...      2004\n",
       "1             1  McDonald's Sports Set Number 6 - Orange Vest S...      2004\n",
       "2             1  McDonald's Sports Set Number 6 - Orange Vest S...      2004\n",
       "3             1  McDonald's Sports Set Number 6 - Orange Vest S...      2004\n",
       "4             3                                 Emma's Splash Pool      2012"
      ],
      "text/html": "<div>\n<style scoped>\n    .dataframe tbody tr th:only-of-type {\n        vertical-align: middle;\n    }\n\n    .dataframe tbody tr th {\n        vertical-align: top;\n    }\n\n    .dataframe thead th {\n        text-align: right;\n    }\n</style>\n<table border=\"1\" class=\"dataframe\">\n  <thead>\n    <tr style=\"text-align: right;\">\n      <th></th>\n      <th>Inventory ID</th>\n      <th>Set Name</th>\n      <th>Set Year</th>\n    </tr>\n  </thead>\n  <tbody>\n    <tr>\n      <th>0</th>\n      <td>1</td>\n      <td>McDonald's Sports Set Number 6 - Orange Vest S...</td>\n      <td>2004</td>\n    </tr>\n    <tr>\n      <th>1</th>\n      <td>1</td>\n      <td>McDonald's Sports Set Number 6 - Orange Vest S...</td>\n      <td>2004</td>\n    </tr>\n    <tr>\n      <th>2</th>\n      <td>1</td>\n      <td>McDonald's Sports Set Number 6 - Orange Vest S...</td>\n      <td>2004</td>\n    </tr>\n    <tr>\n      <th>3</th>\n      <td>1</td>\n      <td>McDonald's Sports Set Number 6 - Orange Vest S...</td>\n      <td>2004</td>\n    </tr>\n    <tr>\n      <th>4</th>\n      <td>3</td>\n      <td>Emma's Splash Pool</td>\n      <td>2012</td>\n    </tr>\n  </tbody>\n</table>\n</div>"
     },
     "metadata": {},
     "execution_count": 26
    }
   ],
   "source": [
    "sets_clean_1950_db = sets_1950_db[['Inventory ID','Set Name', 'Set Year']].copy()\n",
    "sets_clean_1950_db.head()"
   ]
  },
  {
   "cell_type": "code",
   "execution_count": null,
   "metadata": {},
   "outputs": [],
   "source": []
  }
 ]
}